{
  "cells": [
    {
      "cell_type": "markdown",
      "metadata": {
        "id": "EK3L5_E7YiKc"
      },
      "source": [
        "#Práctica Propuesta- SimPy SED"
      ]
    },
    {
      "cell_type": "code",
      "execution_count": 17,
      "metadata": {
        "colab": {
          "base_uri": "https://localhost:8080/"
        },
        "id": "uWT6ZFeBZVW9",
        "outputId": "a8fb63dd-1d2c-4aa4-845d-577c7372ca1a"
      },
      "outputs": [
        {
          "name": "stdout",
          "output_type": "stream",
          "text": [
            "Requirement already satisfied: simpy in /usr/local/lib/python3.7/dist-packages (4.0.1)\n"
          ]
        }
      ],
      "source": [
        "pip install simpy"
      ]
    },
    {
      "cell_type": "code",
      "execution_count": 18,
      "metadata": {
        "colab": {
          "base_uri": "https://localhost:8080/"
        },
        "id": "btx5gLYLZSaM",
        "outputId": "11798e8a-7fa9-480a-caf9-b1baf23be436"
      },
      "outputs": [
        {
          "name": "stdout",
          "output_type": "stream",
          "text": [
            "Lavanderia UPS\n",
            "Llega vehiculo: Vehiculo-1 a la hora 0.00.\n",
            "Llega vehiculo: Vehiculo-2 a la hora 0.00.\n",
            "Llega vehiculo: Vehiculo-3 a la hora 0.00.\n",
            "Llega vehiculo: Vehiculo-4 a la hora 0.00.\n",
            "Llega vehiculo: Vehiculo-5 a la hora 0.00.\n",
            "Entra vehiculo a lavarse: Vehiculo-1 a la hora 0.00.\n",
            "Entra vehiculo a lavarse: Vehiculo-2 a la hora 0.00.\n",
            "Entra vehiculo a lavarse: Vehiculo-3 a la hora 0.00.\n",
            "Removido  {50%} suciedad vehiculo => Vehiculo-1 \n",
            "Removido  {42%} suciedad vehiculo => Vehiculo-2 \n",
            "Removido  {45%} suciedad vehiculo => Vehiculo-3 \n",
            "Vehiculo [Vehiculo-1] lavado completo a las 7.00.\n",
            "Vehiculo [Vehiculo-2] lavado completo a las 7.00.\n",
            "Vehiculo [Vehiculo-3] lavado completo a las 7.00.\n",
            "Entra vehiculo a lavarse: Vehiculo-4 a la hora 7.00.\n",
            "Entra vehiculo a lavarse: Vehiculo-5 a la hora 7.00.\n",
            "Llega vehiculo: Vehiculo-6 a la hora 9.00.\n",
            "Entra vehiculo a lavarse: Vehiculo-6 a la hora 9.00.\n",
            "Removido  {82%} suciedad vehiculo => Vehiculo-4 \n",
            "Removido  {90%} suciedad vehiculo => Vehiculo-5 \n",
            "Vehiculo [Vehiculo-4] lavado completo a las 14.00.\n",
            "Vehiculo [Vehiculo-5] lavado completo a las 14.00.\n"
          ]
        }
      ],
      "source": [
        "import simpy\n",
        "import random\n",
        "\n",
        "\n",
        "# Maximo de vehiculos que puede recibir el negocio\n",
        "MAX_VEHICULOS = 57 \n",
        "# Total de maquinas de lavado con que cuenta el negocio\n",
        "NUM_MAQUINAS = 3\n",
        "# Tiempo que tarda en lavarse un vehiculo (minutos)\n",
        "TIEMPO_LAVADO = 7 \n",
        "# Intervalo de tiempo en que llegan vehiculos (minutos)\n",
        "INTERVALO_LLEGADA = 9\n",
        "# Tiempo de simulación (minutos)\n",
        "TIEMPO_SIMULACION = 15\n",
        "\n",
        "# Creamos una clase que permita modelar mi escenario\n",
        "class Lavanderia(object):\n",
        "    \n",
        "    def __init__(self, environment, num_maquinas, tiempo_lavado):\n",
        "        # Guardamos como variable el entorno de ejecucion\n",
        "        self.env=environment\n",
        "        # Creamos el recurso que representa las maquinas\n",
        "        self.maquinas = simpy.Resource(environment, num_maquinas)\n",
        "        # Variable para el tiempo de lavado\n",
        "        self.tiempo_lavado = tiempo_lavado\n",
        "        \n",
        "    def lavar_vehiculo(self, vehiculo):\n",
        "        # Este metodo representa el proceso de lavado del vehículo.\n",
        "        # Se ingresa el vehículo y se lava\n",
        "        \n",
        "        # Simulamos el tiempo que tarda en lavarse el vehiculo\n",
        "        # Es importante notar que la instruccion \"yield\" es distinta de \"sleep\"\n",
        "        # ya que esta ultima bloquea el hilo de ejecucion durante 't' unidades de tiempo,\n",
        "        # mientras que 'yield' no bloquea el hilo de ejecucion, solo lo suspende mientras\n",
        "        # el evento de 'lavado' se realice\n",
        "        yield self.env.timeout(TIEMPO_LAVADO)\n",
        "        \n",
        "        # Simulamos que se ha limpiado parte (%) de la suciedad del vehiculo\n",
        "        # Para el % generamos un entero entre 30 y 90\n",
        "        print('Removido  {%d%%} suciedad vehiculo => %s ' % (random.randint(30,90), vehiculo))\n",
        "        \n",
        "\n",
        "# Generamos el proceso de cola\n",
        "def llegada_vehiculo(env, nombre, lavanderia):\n",
        "    # Usamos el reloj de la simulacion (env.now()) para indicar a la\n",
        "    # hora que llega el vehiculo con el nombre pasado como parametro\n",
        "    print('Llega vehiculo: %s a la hora %.2f.' % (nombre, env.now))\n",
        "    \n",
        "    # Especificamos que vamos a usar un recurso (Resource) que representa\n",
        "    # la maquina de lavado\n",
        "    with lavanderia.maquinas.request() as maquina:\n",
        "        # Ocupamos la maquina de lavado\n",
        "        yield maquina\n",
        "        # Indicamos que vehiculo entra a la lavanderia\n",
        "        print('Entra vehiculo a lavarse: %s a la hora %.2f.' % (nombre, env.now))\n",
        "        # Procesamos la operacion de lavado\n",
        "        yield env.process(lavanderia.lavar_vehiculo(nombre))\n",
        "        # Una vez que termina la llamada con 'yield', se indica que se ha lavado el vehiculo\n",
        "        print('Vehiculo [%s] lavado completo a las %.2f.' % (nombre, env.now))\n",
        "    \n",
        "    \n",
        "def ejecutar_simulacion(env, num_maquinas, tiempo_lavado, intervalo):\n",
        "    lavanderia=Lavanderia(env, num_maquinas, tiempo_lavado)\n",
        "    # Creamos 5 llegadas de vehiculos iniciales\n",
        "    for i in range(5):\n",
        "        env.process(llegada_vehiculo(env, 'Vehiculo-%d'%(i+1),lavanderia))\n",
        "    \n",
        "    # Ejecutamos la simulacion\n",
        "    while True:\n",
        "        # Generamos un procesos de llegada en un intervalo de 7 - 11 minutos\n",
        "        yield env.timeout(random.randint(intervalo-2, intervalo+2))\n",
        "        # Genero la llegada del vehiculo con su nombre que es un contador\n",
        "        i+=1\n",
        "        # Mientras se lavan los vehiculos generamos mas vehiculos\n",
        "        env.process(llegada_vehiculo(env,'Vehiculo-%d'%(i+1),lavanderia))\n",
        "\n",
        "print('Lavanderia UPS')\n",
        "# Inicializamos la semilla aleatoria\n",
        "random.seed(77)\n",
        "\n",
        "# Creamos el entorno de simulacion\n",
        "env=simpy.Environment()\n",
        "env.process(ejecutar_simulacion(env, NUM_MAQUINAS, TIEMPO_LAVADO, INTERVALO_LLEGADA))\n",
        "\n",
        "# Ejecutamos el proceso durante el tiempo de simulacion\n",
        "env.run(until = TIEMPO_SIMULACION)"
      ]
    },
    {
      "cell_type": "markdown",
      "metadata": {
        "id": "bZn8dDkSYl9Y"
      },
      "source": [
        "\n",
        "Modifique el código anterior a fin de incorporar los siguientes cambios:\n",
        "\n",
        "* Considerar 3 tipos de vehículos con 3 diferentes tiempos de lavado:\n",
        "    * Bus: 15- 20 minutos\n",
        "    * Automóvil: 7-10 minutos\n",
        "    * Furgoneta: 12-15 minutos\n",
        "* Considere que a partir de la entrada del vehículo para ser lavado, deberán tomarse en cuenta los siguientes tiempos correspondientes al proceso de traslado desde la recepción a la máquina de lavado:\n",
        "    * Bus: 4 minutos\n",
        "    * Automóvil: 1 minuto\n",
        "    * Furgoneta: 2 minutos\n",
        "* Identificar el recurso maquina dentro de la simulación\n",
        "* Realice una gráfica comparativa de la simulación con 3 y con 4 máquinas de lavado\n",
        "\n"
      ]
    },
    {
      "cell_type": "code",
      "execution_count": 19,
      "metadata": {
        "colab": {
          "base_uri": "https://localhost:8080/"
        },
        "id": "Osq3si-PY2eW",
        "outputId": "bfe0c534-b047-4930-8d69-02f4f8d650e8"
      },
      "outputs": [
        {
          "name": "stdout",
          "output_type": "stream",
          "text": [
            "Llega vehículo: Bus a la hora 0.00.\n",
            "Llega vehículo: Automóvil a la hora 0.00.\n",
            "Llega vehículo: Automóvil a la hora 0.00.\n",
            "Vehiculo [Automóvil] ASIGNADO a la máquina: 2.\n",
            "Entra [Automóvil] a lavarse a la hora 1.00.\n",
            "Vehiculo [Automóvil] ASIGNADO a la máquina: 3.\n",
            "Entra [Automóvil] a lavarse a la hora 1.00.\n",
            "Vehiculo [Bus] ASIGNADO a la máquina: 1.\n",
            "Entra [Bus] a lavarse a la hora 4.00.\n",
            "Llega vehículo: Furgoneta a la hora 11.00.\n",
            "Vehiculo [Automóvil] SALE lavado a las 11.00 de la máquina: 2.\n",
            "Vehiculo [Automóvil] SALE lavado a las 11.00 de la máquina: 3.\n",
            "Vehiculo [Automóvil] abandona la lavanderia a las: 12.00.\n",
            "Vehiculo [Automóvil] abandona la lavanderia a las: 12.00.\n",
            "Vehiculo [Furgoneta] ASIGNADO a la máquina: 4.\n",
            "Entra [Furgoneta] a lavarse a la hora 13.00.\n",
            "Llega vehículo: Bus a la hora 19.00.\n",
            "Vehiculo [Bus] ASIGNADO a la máquina: 2.\n",
            "Entra [Bus] a lavarse a la hora 23.00.\n",
            "Vehiculo [Bus] SALE lavado a las 24.00 de la máquina: 1.\n",
            "Vehiculo [Bus] abandona la lavanderia a las: 25.00.\n",
            "Vehiculo [Furgoneta] SALE lavado a las 28.00 de la máquina: 4.\n",
            "Vehiculo [Furgoneta] abandona la lavanderia a las: 29.00.\n",
            "Llega vehículo: Furgoneta a la hora 30.00.\n",
            "Vehiculo [Furgoneta] ASIGNADO a la máquina: 1.\n",
            "Entra [Furgoneta] a lavarse a la hora 32.00.\n",
            "Llega vehículo: Bus a la hora 41.00.\n",
            "Vehiculo [Bus] SALE lavado a las 43.00 de la máquina: 2.\n",
            "Vehiculo [Bus] abandona la lavanderia a las: 44.00.\n",
            "Vehiculo [Bus] ASIGNADO a la máquina: 3.\n",
            "Entra [Bus] a lavarse a la hora 45.00.\n",
            "Vehiculo [Furgoneta] SALE lavado a las 47.00 de la máquina: 1.\n",
            "Vehiculo [Furgoneta] abandona la lavanderia a las: 48.00.\n",
            "Llega vehículo: Bus a la hora 50.00.\n",
            "Vehiculo [Bus] ASIGNADO a la máquina: 1.\n",
            "Entra [Bus] a lavarse a la hora 54.00.\n",
            "{0: 3, 1: 2, 2: 2, 3: 1}\n"
          ]
        }
      ],
      "source": [
        "import simpy\n",
        "import random\n",
        "import numpy as np\n",
        "\n",
        "# Maximo de vehiculos que puede recibir el negocio\n",
        "MAX_VEHICULOS = 57 \n",
        "# Total de maquinas de lavado con que cuenta el negocio\n",
        "NUM_MAQUINAS = 4\n",
        "# Tiempo que tarda en lavarse un vehiculo (minutos)\n",
        "TIEMPO_LAVADO = {1:20, 2:10, 3:15}\n",
        "# Intervalo de tiempo en que llegan vehiculos (minutos)\n",
        "INTERVALO_LLEGADA = 9\n",
        "# Tiempo de simulación\n",
        "TIEMPO_SIMULACION = 60\n",
        "# Vehiculos\n",
        "VEHICULOS = {1:'Bus', 2:'Automóvil', 3:'Furgoneta'}\n",
        "# Tiempo de traslado hasta la máquina (minutos)\n",
        "TIEMPO_TRASLADO = {1:4, 2:1, 3:2}\n",
        "# Diccionario con las máquinas de lavado estado inicial libre\n",
        "MAQUINASLIBRES = {}\n",
        "keys = range(NUM_MAQUINAS)\n",
        "values = [\"Libre\"]\n",
        "for i in keys:\n",
        "        MAQUINASLIBRES[i] = values[0]\n",
        "        \n",
        "cantidadVehiculos={}\n",
        "keys = range(NUM_MAQUINAS)\n",
        "values = [0]\n",
        "for i in keys:\n",
        "        cantidadVehiculos[i] = values[0]\n",
        "\n",
        "class Lavanderia(object):\n",
        "    \n",
        "    def __init__(self, environment, num_maquinas, tiempo_lavado):\n",
        "        # Guardamos como variable el entorno de ejecucion\n",
        "        self.env=environment\n",
        "        # Creamos el recurso que representa las maquinas\n",
        "        self.maquinas = simpy.Resource(environment, num_maquinas)\n",
        "        # Variable para el tiempo de lavado\n",
        "        self.tiempo_lavado = tiempo_lavado\n",
        "        \n",
        "    def lavar_vehiculo(self, vehiculoIndex):\n",
        "               \n",
        "        yield self.env.timeout(TIEMPO_LAVADO.get(vehiculoIndex))\n",
        "        \n",
        "        \n",
        "    def maquinaLibre(self, key):\n",
        "        if MAQUINASLIBRES.get(key) == 'Libre':\n",
        "            return True\n",
        "        else:\n",
        "            return False\n",
        "        \n",
        "    def llegarMaquina(self, vehiculoId):          \n",
        "        yield self.env.timeout(TIEMPO_TRASLADO.get(vehiculoId))\n",
        "    \n",
        "    def abandonarLavanderia(self):\n",
        "        yield self.env.timeout(1)\n",
        "       \n",
        "    \n",
        "def llegada_vehiculo(env, vehiculoId, lavanderia,idMaquina):\n",
        "    print('Llega vehículo: %s a la hora %.2f.' % (VEHICULOS.get(vehiculoId), env.now))\n",
        "    with lavanderia.maquinas.request() as maquina:\n",
        "        yield maquina\n",
        "        yield env.process(lavanderia.llegarMaquina(vehiculoId))\n",
        "        print('Vehiculo [%s] ASIGNADO a la máquina: %s.' % (VEHICULOS.get(vehiculoId), idMaquina+1))\n",
        "        \n",
        "        print('Entra [%s] a lavarse a la hora %.2f.' % (VEHICULOS.get(vehiculoId), env.now))\n",
        "\n",
        "        yield env.process(lavanderia.lavar_vehiculo(vehiculoId))\n",
        "        print('Vehiculo [%s] SALE lavado a las %.2f de la máquina: %s.' % (VEHICULOS.get(vehiculoId), env.now, idMaquina+1))\n",
        "\n",
        "        yield env.process(lavanderia.abandonarLavanderia())    \n",
        "        MAQUINASLIBRES[idMaquina]='Libre'\n",
        "        print('Vehiculo [%s] abandona la lavanderia a las: %.2f.' % (VEHICULOS.get(vehiculoId), env.now))\n",
        "            \n",
        "def ejecutar_simulacion(env, num_maquinas, tiempo_lavado, intervalo):\n",
        "    lavanderia=Lavanderia(env, num_maquinas, tiempo_lavado)\n",
        "    # Creamos 3 llegadas de vehiculos iniciales\n",
        "    for i in range(3):\n",
        "        for j in range(num_maquinas):\n",
        "            if lavanderia.maquinaLibre(j):\n",
        "                MAQUINASLIBRES[j]='Ocupada'\n",
        "                env.process(llegada_vehiculo(env, random.randint(1,3), lavanderia,j))\n",
        "                cantidadVehiculos[j]+=1\n",
        "                break;\n",
        "            else:\n",
        "                j-=1\n",
        "                i-=1\n",
        "                \n",
        "    # Ejecutamos la simulacion\n",
        "    while True:\n",
        "        yield env.timeout(random.randint(intervalo-2, intervalo+2))\n",
        "        #Mientras se lavan los vehiculos generamos mas vehiculos\n",
        "        for j in range(num_maquinas):\n",
        "            if lavanderia.maquinaLibre(j):\n",
        "                MAQUINASLIBRES[j]='Ocupada'\n",
        "                env.process(llegada_vehiculo(env, random.randint(1,3), lavanderia,j))\n",
        "                cantidadVehiculos[j]+=1\n",
        "                break;\n",
        "            else:\n",
        "                j=0\n",
        "        \n",
        "        \n",
        "\n",
        "env=simpy.Environment()\n",
        "env.process(ejecutar_simulacion(env, NUM_MAQUINAS, TIEMPO_LAVADO, INTERVALO_LLEGADA))\n",
        "# Ejecutamos el proceso durante el tiempo de simulacion\n",
        "env.run(until= TIEMPO_SIMULACION) \n",
        "print(cantidadVehiculos)"
      ]
    },
    {
      "cell_type": "markdown",
      "metadata": {
        "id": "C1_TU7TMaLWM"
      },
      "source": [
        "#### Gráfica con 3 máquinas de lavado."
      ]
    },
    {
      "cell_type": "code",
      "execution_count": 20,
      "metadata": {
        "colab": {
          "base_uri": "https://localhost:8080/",
          "height": 296
        },
        "id": "bpEcmIUOaHyb",
        "outputId": "47ed8788-23bc-43a2-944c-0c2f7c584969"
      },
      "outputs": [
        {
          "data": {
            "image/png": "[encoded data removed]",
            "text/plain": [
              "<Figure size 432x288 with 1 Axes>"
            ]
          },
          "metadata": {
            "needs_background": "light"
          },
          "output_type": "display_data"
        }
      ],
      "source": [
        "import matplotlib.pyplot as plt\n",
        "maquinas = ['Máquina1', 'Máquina2', 'Máquina3']\n",
        "\n",
        "values = [cantidadVehiculos[0],cantidadVehiculos[1],cantidadVehiculos[2]]\n",
        "\n",
        "plt.bar(maquinas, values)\n",
        "plt.xlabel('Máquinas') \n",
        "plt.ylabel('Cantidad de vehículos lavados') \n",
        "  \n",
        "# displaying the title\n",
        "plt.title(\"Lavandería UPS\")\n",
        "plt.show()"
      ]
    },
    {
      "cell_type": "markdown",
      "metadata": {
        "id": "1QGi-PrEaPPx"
      },
      "source": [
        "###Gráfica con 4 máquinas de lavado."
      ]
    },
    {
      "cell_type": "code",
      "execution_count": 21,
      "metadata": {
        "colab": {
          "base_uri": "https://localhost:8080/",
          "height": 296
        },
        "id": "X3R3H7joaPB-",
        "outputId": "aee49762-0ac6-4bd0-9951-9efba65dc07d"
      },
      "outputs": [
        {
          "data": {
            "image/png": "[encoded data removed]",
            "text/plain": [
              "<Figure size 432x288 with 1 Axes>"
            ]
          },
          "metadata": {
            "needs_background": "light"
          },
          "output_type": "display_data"
        }
      ],
      "source": [
        "import matplotlib.pyplot as plt\n",
        "maquinas = ['Máquina1', 'Máquina2', 'Máquina3', 'Máquina4']\n",
        "values = cantidadVehiculos.values()\n",
        "\n",
        "plt.bar(maquinas, values)\n",
        "plt.xlabel('Máquinas') \n",
        "plt.ylabel('Cantidad de vehículos lavados') \n",
        "  \n",
        "# displaying the title\n",
        "plt.title(\"Lavandería UPS\")\n",
        "plt.show()"
      ]
    }
  ],
  "metadata": {
    "colab": {
      "collapsed_sections": [],
      "name": "SED.ipynb",
      "provenance": []
    },
    "kernelspec": {
      "display_name": "Python 3",
      "name": "python3"
    },
    "language_info": {
      "name": "python"
    }
  },
  "nbformat": 4,
  "nbformat_minor": 0
}
