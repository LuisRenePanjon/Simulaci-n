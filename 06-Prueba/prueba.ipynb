{
 "cells": [
  {
   "cell_type": "markdown",
   "metadata": {},
   "source": [
    "<img src=\"http://yqsigo.com/wp-content/uploads/2018/04/LOGO-UPS.png\"/>\n",
    "\n",
    "## Materia: Simulación \n",
    "## Profesor: Ing. Diego Quisi\n",
    "## Estudiante: Luis René Panjón\n",
    "# PRUEBA 1"
   ]
  },
  {
   "cell_type": "markdown",
   "metadata": {},
   "source": [
    "## Importación de librerias necesarias"
   ]
  },
  {
   "cell_type": "code",
   "execution_count": 806,
   "metadata": {},
   "outputs": [],
   "source": [
    "import pandas as pd\n",
    "import numpy as np\n",
    "from datetime import datetime, timedelta\n",
    "from matplotlib import pyplot as plt\n",
    "import matplotlib.patches as mpatches\n",
    "import plotly as ply\n",
    "import datapane as dp\n",
    "import plotly.graph_objects as go\n",
    "import plotly.express as px"
   ]
  },
  {
   "cell_type": "markdown",
   "metadata": {},
   "source": [
    "# Carga y preprocesamiento de datasets.\n",
    "## Población"
   ]
  },
  {
   "cell_type": "code",
   "execution_count": 807,
   "metadata": {},
   "outputs": [],
   "source": [
    "csv_poblacion = pd.read_csv(\n",
    "    './202110_Tabulados_Mercado_Laboral_CSV/1.Poblaciones.csv', encoding='latin1', sep=';', skiprows=2)\n",
    "csv_poblacion = csv_poblacion.drop(\n",
    "    csv_poblacion.columns[[8, 9, 10, 11, 12, 13, 14, 15, 16, 17, 18]], axis=1)\n",
    "csv_poblacion.rename(columns ={\n",
    "    'Unnamed: 0':'Encuesta','Unnamed: 1':'Periodo','Unnamed: 2':'Indicadores', 'Unnamed: 5':'Area'\n",
    "    ,'Unnamed: 7':'Sexo'\n",
    "}, inplace = True)\n"
   ]
  },
  {
   "cell_type": "markdown",
   "metadata": {},
   "source": [
    "## Tasas"
   ]
  },
  {
   "cell_type": "code",
   "execution_count": 808,
   "metadata": {},
   "outputs": [],
   "source": [
    "csv_tasas = pd.read_csv(\n",
    "    './202110_Tabulados_Mercado_Laboral_CSV/2.Tasas.csv', encoding='latin1', sep=';', skiprows=2)\n",
    "csv_tasas.rename(columns={\n",
    "    'Unnamed: 0':'Encuesta','Unnamed: 1':'Periodo','Unnamed: 2':'Indicadores'\n",
    "}, inplace = True)"
   ]
  },
  {
   "cell_type": "markdown",
   "metadata": {},
   "source": [
    "## Empleados"
   ]
  },
  {
   "cell_type": "code",
   "execution_count": 809,
   "metadata": {},
   "outputs": [],
   "source": [
    "csv_empleados = pd.read_csv(\n",
    "    './202110_Tabulados_Mercado_Laboral_CSV/3.1. Caracterización empleados.csv', encoding='latin1', sep=';')\n",
    "csv_empleados = pd.DataFrame(csv_empleados.to_numpy().transpose().tolist())\n",
    "csv_empleados = csv_empleados.drop(csv_empleados.columns[list(range(29,63))], axis=1)\n",
    "csv_empleados[0][1]=\"Caracteristicas\"\n",
    "csv_empleados = csv_empleados.drop(0)"
   ]
  },
  {
   "cell_type": "markdown",
   "metadata": {},
   "source": [
    "## Adec_Pleno"
   ]
  },
  {
   "cell_type": "code",
   "execution_count": 810,
   "metadata": {},
   "outputs": [],
   "source": [
    "# csv_adec_pleno = pd.read_csv(\n",
    "#     './202110_Tabulados_Mercado_Laboral_CSV/3.2. Caracterización adec_pleno.csv', encoding='latin1', sep=';')\n",
    "# csv_adec_pleno = pd.DataFrame(csv_adec_pleno.to_numpy().transpose().tolist())\n",
    "# csv_adec_pleno[0][1]=\"Caracterisctas\"\n",
    "# csv_adec_pleno = csv_adec_pleno.drop(0)\n"
   ]
  },
  {
   "cell_type": "markdown",
   "metadata": {},
   "source": [
    "## Subempleo"
   ]
  },
  {
   "cell_type": "code",
   "execution_count": 811,
   "metadata": {},
   "outputs": [],
   "source": [
    "csv_subempleo = pd.read_csv(\n",
    "    './202110_Tabulados_Mercado_Laboral_CSV/3.3. Caracterización subempleo.csv', encoding='latin1', sep=';')\n",
    "csv_subempleo = pd.DataFrame(csv_subempleo.to_numpy().transpose().tolist())\n",
    "csv_subempleo[0][1]=\"Caracteristicas\"\n",
    "csv_subempleo = csv_subempleo.drop(0)"
   ]
  },
  {
   "cell_type": "markdown",
   "metadata": {},
   "source": [
    "## No Pleno"
   ]
  },
  {
   "cell_type": "code",
   "execution_count": 812,
   "metadata": {},
   "outputs": [
    {
     "name": "stderr",
     "output_type": "stream",
     "text": [
      "/tmp/ipykernel_10443/3823610171.py:4: SettingWithCopyWarning:\n",
      "\n",
      "\n",
      "A value is trying to be set on a copy of a slice from a DataFrame\n",
      "\n",
      "See the caveats in the documentation: https://pandas.pydata.org/pandas-docs/stable/user_guide/indexing.html#returning-a-view-versus-a-copy\n",
      "\n"
     ]
    }
   ],
   "source": [
    "csv_no_pleno = pd.read_csv(\n",
    "    './202110_Tabulados_Mercado_Laboral_CSV/3.4 Caracterización Ot. no pleno.csv', encoding='latin1', sep=';')\n",
    "csv_no_pleno = pd.DataFrame(csv_no_pleno.to_numpy().transpose().tolist())\n",
    "csv_no_pleno[0][1] = \"Caracteristicas\"\n",
    "csv_no_pleno = csv_no_pleno.drop(0)"
   ]
  },
  {
   "cell_type": "markdown",
   "metadata": {},
   "source": [
    "## Desempleo"
   ]
  },
  {
   "cell_type": "code",
   "execution_count": 813,
   "metadata": {},
   "outputs": [],
   "source": [
    "csv_desempleado = pd.read_csv(\n",
    "    './202110_Tabulados_Mercado_Laboral_CSV/3.5 Caracterización Desempleo.csv', encoding='latin1', sep=';')\n",
    "csv_desempleado = pd.DataFrame(csv_desempleado.to_numpy().transpose().tolist())\n",
    "csv_desempleado[0][1] = \"Caracteristicas\"\n",
    "csv_desempleado = csv_desempleado.drop(0)"
   ]
  },
  {
   "cell_type": "markdown",
   "metadata": {},
   "source": [
    "## Sectorización del empleo"
   ]
  },
  {
   "cell_type": "code",
   "execution_count": 814,
   "metadata": {},
   "outputs": [
    {
     "data": {
      "text/html": [
       "<div>\n",
       "<style scoped>\n",
       "    .dataframe tbody tr th:only-of-type {\n",
       "        vertical-align: middle;\n",
       "    }\n",
       "\n",
       "    .dataframe tbody tr th {\n",
       "        vertical-align: top;\n",
       "    }\n",
       "\n",
       "    .dataframe thead th {\n",
       "        text-align: right;\n",
       "    }\n",
       "</style>\n",
       "<table border=\"1\" class=\"dataframe\">\n",
       "  <thead>\n",
       "    <tr style=\"text-align: right;\">\n",
       "      <th></th>\n",
       "      <th>Periodo</th>\n",
       "      <th>Sector Formal</th>\n",
       "      <th>Sector Informal</th>\n",
       "      <th>Empleo Doméstico</th>\n",
       "      <th>No Clasificados por Sector</th>\n",
       "      <th>Sector Formal</th>\n",
       "      <th>Sector Informal</th>\n",
       "      <th>Empleo Doméstico</th>\n",
       "      <th>No Clasificados por Sector</th>\n",
       "      <th>Sector Formal</th>\n",
       "      <th>Sector Informal</th>\n",
       "      <th>Empleo Doméstico</th>\n",
       "      <th>No Clasificados por Sector</th>\n",
       "    </tr>\n",
       "  </thead>\n",
       "  <tbody>\n",
       "    <tr>\n",
       "      <th>1</th>\n",
       "      <td>jun-07</td>\n",
       "      <td>-</td>\n",
       "      <td>-</td>\n",
       "      <td>-</td>\n",
       "      <td>-</td>\n",
       "      <td>54,7%</td>\n",
       "      <td>36,9%</td>\n",
       "      <td>4,0%</td>\n",
       "      <td>4,4%</td>\n",
       "      <td>-</td>\n",
       "      <td>-</td>\n",
       "      <td>-</td>\n",
       "      <td>-</td>\n",
       "    </tr>\n",
       "    <tr>\n",
       "      <th>2</th>\n",
       "      <td>sep-07</td>\n",
       "      <td>-</td>\n",
       "      <td>-</td>\n",
       "      <td>-</td>\n",
       "      <td>-</td>\n",
       "      <td>55,7%</td>\n",
       "      <td>36,1%</td>\n",
       "      <td>4,1%</td>\n",
       "      <td>4,1%</td>\n",
       "      <td>-</td>\n",
       "      <td>-</td>\n",
       "      <td>-</td>\n",
       "      <td>-</td>\n",
       "    </tr>\n",
       "    <tr>\n",
       "      <th>3</th>\n",
       "      <td>dic-07</td>\n",
       "      <td>41,0%</td>\n",
       "      <td>45,1%</td>\n",
       "      <td>3,3%</td>\n",
       "      <td>10,6%</td>\n",
       "      <td>54,1%</td>\n",
       "      <td>34,0%</td>\n",
       "      <td>4,3%</td>\n",
       "      <td>7,7%</td>\n",
       "      <td>15,5%</td>\n",
       "      <td>66,7%</td>\n",
       "      <td>1,5%</td>\n",
       "      <td>16,3%</td>\n",
       "    </tr>\n",
       "    <tr>\n",
       "      <th>4</th>\n",
       "      <td>mar-08</td>\n",
       "      <td>-</td>\n",
       "      <td>-</td>\n",
       "      <td>-</td>\n",
       "      <td>-</td>\n",
       "      <td>54,4%</td>\n",
       "      <td>36,6%</td>\n",
       "      <td>3,9%</td>\n",
       "      <td>5,1%</td>\n",
       "      <td>-</td>\n",
       "      <td>-</td>\n",
       "      <td>-</td>\n",
       "      <td>-</td>\n",
       "    </tr>\n",
       "    <tr>\n",
       "      <th>5</th>\n",
       "      <td>jun-08</td>\n",
       "      <td>42,5%</td>\n",
       "      <td>45,4%</td>\n",
       "      <td>3,3%</td>\n",
       "      <td>8,8%</td>\n",
       "      <td>55,8%</td>\n",
       "      <td>34,0%</td>\n",
       "      <td>4,0%</td>\n",
       "      <td>6,2%</td>\n",
       "      <td>16,2%</td>\n",
       "      <td>68,1%</td>\n",
       "      <td>1,8%</td>\n",
       "      <td>13,9%</td>\n",
       "    </tr>\n",
       "    <tr>\n",
       "      <th>...</th>\n",
       "      <td>...</td>\n",
       "      <td>...</td>\n",
       "      <td>...</td>\n",
       "      <td>...</td>\n",
       "      <td>...</td>\n",
       "      <td>...</td>\n",
       "      <td>...</td>\n",
       "      <td>...</td>\n",
       "      <td>...</td>\n",
       "      <td>...</td>\n",
       "      <td>...</td>\n",
       "      <td>...</td>\n",
       "      <td>...</td>\n",
       "    </tr>\n",
       "    <tr>\n",
       "      <th>61</th>\n",
       "      <td>jun-21</td>\n",
       "      <td>42,3%</td>\n",
       "      <td>49,9%</td>\n",
       "      <td>2,0%</td>\n",
       "      <td>5,8%</td>\n",
       "      <td>52,5%</td>\n",
       "      <td>38,8%</td>\n",
       "      <td>2,3%</td>\n",
       "      <td>6,3%</td>\n",
       "      <td>23,1%</td>\n",
       "      <td>70,8%</td>\n",
       "      <td>1,3%</td>\n",
       "      <td>4,8%</td>\n",
       "    </tr>\n",
       "    <tr>\n",
       "      <th>62</th>\n",
       "      <td>jul-21</td>\n",
       "      <td>40,6%</td>\n",
       "      <td>51,2%</td>\n",
       "      <td>2,1%</td>\n",
       "      <td>6,2%</td>\n",
       "      <td>50,7%</td>\n",
       "      <td>40,5%</td>\n",
       "      <td>2,6%</td>\n",
       "      <td>6,2%</td>\n",
       "      <td>21,2%</td>\n",
       "      <td>71,6%</td>\n",
       "      <td>1,1%</td>\n",
       "      <td>6,1%</td>\n",
       "    </tr>\n",
       "    <tr>\n",
       "      <th>63</th>\n",
       "      <td>ago-21</td>\n",
       "      <td>41,2%</td>\n",
       "      <td>50,6%</td>\n",
       "      <td>2,4%</td>\n",
       "      <td>5,8%</td>\n",
       "      <td>52,1%</td>\n",
       "      <td>39,6%</td>\n",
       "      <td>3,1%</td>\n",
       "      <td>5,3%</td>\n",
       "      <td>21,0%</td>\n",
       "      <td>71,2%</td>\n",
       "      <td>1,0%</td>\n",
       "      <td>6,7%</td>\n",
       "    </tr>\n",
       "    <tr>\n",
       "      <th>64</th>\n",
       "      <td>sep-21</td>\n",
       "      <td>43,9%</td>\n",
       "      <td>49,2%</td>\n",
       "      <td>2,4%</td>\n",
       "      <td>4,5%</td>\n",
       "      <td>54,3%</td>\n",
       "      <td>37,9%</td>\n",
       "      <td>3,0%</td>\n",
       "      <td>4,8%</td>\n",
       "      <td>24,9%</td>\n",
       "      <td>69,9%</td>\n",
       "      <td>1,3%</td>\n",
       "      <td>3,9%</td>\n",
       "    </tr>\n",
       "    <tr>\n",
       "      <th>65</th>\n",
       "      <td>oct-21</td>\n",
       "      <td>41,4%</td>\n",
       "      <td>52,2%</td>\n",
       "      <td>2,2%</td>\n",
       "      <td>4,2%</td>\n",
       "      <td>52,5%</td>\n",
       "      <td>40,2%</td>\n",
       "      <td>2,8%</td>\n",
       "      <td>4,4%</td>\n",
       "      <td>20,4%</td>\n",
       "      <td>74,8%</td>\n",
       "      <td>0,9%</td>\n",
       "      <td>3,9%</td>\n",
       "    </tr>\n",
       "  </tbody>\n",
       "</table>\n",
       "<p>65 rows × 13 columns</p>\n",
       "</div>"
      ],
      "text/plain": [
       "0  Periodo Sector Formal Sector Informal Empleo Doméstico  \\\n",
       "1   jun-07             -               -                -   \n",
       "2   sep-07             -               -                -   \n",
       "3   dic-07         41,0%           45,1%             3,3%   \n",
       "4   mar-08             -               -                -   \n",
       "5   jun-08         42,5%           45,4%             3,3%   \n",
       "..     ...           ...             ...              ...   \n",
       "61  jun-21         42,3%           49,9%             2,0%   \n",
       "62  jul-21         40,6%           51,2%             2,1%   \n",
       "63  ago-21         41,2%           50,6%             2,4%   \n",
       "64  sep-21         43,9%           49,2%             2,4%   \n",
       "65  oct-21         41,4%           52,2%             2,2%   \n",
       "\n",
       "0  No Clasificados por Sector Sector Formal Sector Informal Empleo Doméstico  \\\n",
       "1                           -         54,7%           36,9%             4,0%   \n",
       "2                           -         55,7%           36,1%             4,1%   \n",
       "3                       10,6%         54,1%           34,0%             4,3%   \n",
       "4                           -         54,4%           36,6%             3,9%   \n",
       "5                        8,8%         55,8%           34,0%             4,0%   \n",
       "..                        ...           ...             ...              ...   \n",
       "61                       5,8%         52,5%           38,8%             2,3%   \n",
       "62                       6,2%         50,7%           40,5%             2,6%   \n",
       "63                       5,8%         52,1%           39,6%             3,1%   \n",
       "64                       4,5%         54,3%           37,9%             3,0%   \n",
       "65                       4,2%         52,5%           40,2%             2,8%   \n",
       "\n",
       "0  No Clasificados por Sector Sector Formal Sector Informal Empleo Doméstico  \\\n",
       "1                        4,4%             -               -                -   \n",
       "2                        4,1%             -               -                -   \n",
       "3                        7,7%         15,5%           66,7%             1,5%   \n",
       "4                        5,1%             -               -                -   \n",
       "5                        6,2%         16,2%           68,1%             1,8%   \n",
       "..                        ...           ...             ...              ...   \n",
       "61                       6,3%         23,1%           70,8%             1,3%   \n",
       "62                       6,2%         21,2%           71,6%             1,1%   \n",
       "63                       5,3%         21,0%           71,2%             1,0%   \n",
       "64                       4,8%         24,9%           69,9%             1,3%   \n",
       "65                       4,4%         20,4%           74,8%             0,9%   \n",
       "\n",
       "0  No Clasificados por Sector  \n",
       "1                           -  \n",
       "2                           -  \n",
       "3                       16,3%  \n",
       "4                           -  \n",
       "5                       13,9%  \n",
       "..                        ...  \n",
       "61                       4,8%  \n",
       "62                       6,1%  \n",
       "63                       6,7%  \n",
       "64                       3,9%  \n",
       "65                       3,9%  \n",
       "\n",
       "[65 rows x 13 columns]"
      ]
     },
     "execution_count": 814,
     "metadata": {},
     "output_type": "execute_result"
    }
   ],
   "source": [
    "csv_sectorizacion = pd.read_csv(\n",
    "    './202110_Tabulados_Mercado_Laboral_CSV/4. Sectorización del empleo.csv', encoding='latin1', sep=';', index_col=0)\n",
    "csv_sectorizacion = pd.DataFrame(csv_sectorizacion.to_numpy().transpose().tolist())\n",
    "csv_sectorizacion[0][0] = \"Periodo\"\n",
    "csv_sectorizacion.columns = csv_sectorizacion.iloc[0]\n",
    "csv_sectorizacion = csv_sectorizacion.drop(0)\n",
    "csv_sectorizacion\n"
   ]
  },
  {
   "cell_type": "markdown",
   "metadata": {},
   "source": [
    "## Desarrollo\n",
    "\n",
    "<ul>\n",
    "  <li>Generar graficas para entender y procesar los datos:</li>\n",
    "  <ul>\n",
    "    <li>Generar graficas y reportes del total de personas empleadas y desempleadas por año.</li>\n",
    "    <li>Generar grafico de pie por personas basadas en la sectorización de empleo.</li>\n",
    "    <li>Generar histogramas subempleo, empleo pleno y empleo no pleno por año.</li>\n",
    "  </ul>\n",
    "</ul>"
   ]
  },
  {
   "cell_type": "code",
   "execution_count": 815,
   "metadata": {},
   "outputs": [],
   "source": [
    "init = input('Ingrese fecha de inicio')\n",
    "end = input('Ingrese fecha de fin')"
   ]
  },
  {
   "cell_type": "code",
   "execution_count": 816,
   "metadata": {},
   "outputs": [],
   "source": [
    "## fn para eliminación de puntos \n",
    "def replacePoint(x):\n",
    "  return int(x.replace(\".\",\"\"))\n",
    "## Eliminación de puntos en la columna de TOTAL\n",
    "csv_poblacion.Total = csv_poblacion.Total.apply(replacePoint)\n",
    "csv_pie = csv_poblacion.copy()"
   ]
  },
  {
   "cell_type": "code",
   "execution_count": 817,
   "metadata": {},
   "outputs": [],
   "source": [
    "\n",
    "## fn para obtener únicamente año\n",
    "def getOnlyYear(x): \n",
    "  return x.split('-')[1]\n",
    "## Obtener únicamente el año \n",
    "csv_poblacion.Periodo = csv_poblacion.Periodo.apply(getOnlyYear)\n"
   ]
  },
  {
   "cell_type": "code",
   "execution_count": 818,
   "metadata": {},
   "outputs": [
    {
     "data": {
      "text/html": [
       "<div>\n",
       "<style scoped>\n",
       "    .dataframe tbody tr th:only-of-type {\n",
       "        vertical-align: middle;\n",
       "    }\n",
       "\n",
       "    .dataframe tbody tr th {\n",
       "        vertical-align: top;\n",
       "    }\n",
       "\n",
       "    .dataframe thead th {\n",
       "        text-align: right;\n",
       "    }\n",
       "</style>\n",
       "<table border=\"1\" class=\"dataframe\">\n",
       "  <thead>\n",
       "    <tr style=\"text-align: right;\">\n",
       "      <th></th>\n",
       "      <th>Encuesta</th>\n",
       "      <th>Periodo</th>\n",
       "      <th>Indicadores</th>\n",
       "      <th>Total</th>\n",
       "      <th>Urbana</th>\n",
       "      <th>Rural</th>\n",
       "      <th>Hombre</th>\n",
       "      <th>Mujer</th>\n",
       "    </tr>\n",
       "  </thead>\n",
       "  <tbody>\n",
       "    <tr>\n",
       "      <th>0</th>\n",
       "      <td>ENEMDU</td>\n",
       "      <td>07</td>\n",
       "      <td>Población Total</td>\n",
       "      <td>13682302</td>\n",
       "      <td>9.066.209</td>\n",
       "      <td>4.616.093</td>\n",
       "      <td>6.768.646</td>\n",
       "      <td>6.913.656</td>\n",
       "    </tr>\n",
       "    <tr>\n",
       "      <th>1</th>\n",
       "      <td>ENEMDU</td>\n",
       "      <td>07</td>\n",
       "      <td>Población menor de 15 años</td>\n",
       "      <td>4372812</td>\n",
       "      <td>2.723.124</td>\n",
       "      <td>1.649.688</td>\n",
       "      <td>2.226.618</td>\n",
       "      <td>2.146.194</td>\n",
       "    </tr>\n",
       "    <tr>\n",
       "      <th>2</th>\n",
       "      <td>ENEMDU</td>\n",
       "      <td>07</td>\n",
       "      <td>Población en Edad de Trabajar (PET)</td>\n",
       "      <td>9309490</td>\n",
       "      <td>6.343.085</td>\n",
       "      <td>2.966.404</td>\n",
       "      <td>4.542.028</td>\n",
       "      <td>4.767.462</td>\n",
       "    </tr>\n",
       "    <tr>\n",
       "      <th>3</th>\n",
       "      <td>ENEMDU</td>\n",
       "      <td>07</td>\n",
       "      <td>Población Económicamente Activa</td>\n",
       "      <td>6336029</td>\n",
       "      <td>4.227.702</td>\n",
       "      <td>2.108.328</td>\n",
       "      <td>3.777.232</td>\n",
       "      <td>2.558.798</td>\n",
       "    </tr>\n",
       "    <tr>\n",
       "      <th>4</th>\n",
       "      <td>ENEMDU</td>\n",
       "      <td>07</td>\n",
       "      <td>Empleo</td>\n",
       "      <td>6019332</td>\n",
       "      <td>3.971.040</td>\n",
       "      <td>2.048.292</td>\n",
       "      <td>3.632.314</td>\n",
       "      <td>2.387.018</td>\n",
       "    </tr>\n",
       "  </tbody>\n",
       "</table>\n",
       "</div>"
      ],
      "text/plain": [
       "  Encuesta Periodo                          Indicadores     Total     Urbana  \\\n",
       "0   ENEMDU      07                      Población Total  13682302  9.066.209   \n",
       "1   ENEMDU      07           Población menor de 15 años   4372812  2.723.124   \n",
       "2   ENEMDU      07  Población en Edad de Trabajar (PET)   9309490  6.343.085   \n",
       "3   ENEMDU      07      Población Económicamente Activa   6336029  4.227.702   \n",
       "4   ENEMDU      07                               Empleo   6019332  3.971.040   \n",
       "\n",
       "       Rural     Hombre      Mujer  \n",
       "0  4.616.093  6.768.646  6.913.656  \n",
       "1  1.649.688  2.226.618  2.146.194  \n",
       "2  2.966.404  4.542.028  4.767.462  \n",
       "3  2.108.328  3.777.232  2.558.798  \n",
       "4  2.048.292  3.632.314  2.387.018  "
      ]
     },
     "execution_count": 818,
     "metadata": {},
     "output_type": "execute_result"
    }
   ],
   "source": [
    "csv_poblacion.head(5)"
   ]
  },
  {
   "cell_type": "code",
   "execution_count": 819,
   "metadata": {},
   "outputs": [
    {
     "data": {
      "text/html": [
       "<div>\n",
       "<style scoped>\n",
       "    .dataframe tbody tr th:only-of-type {\n",
       "        vertical-align: middle;\n",
       "    }\n",
       "\n",
       "    .dataframe tbody tr th {\n",
       "        vertical-align: top;\n",
       "    }\n",
       "\n",
       "    .dataframe thead th {\n",
       "        text-align: right;\n",
       "    }\n",
       "</style>\n",
       "<table border=\"1\" class=\"dataframe\">\n",
       "  <thead>\n",
       "    <tr style=\"text-align: right;\">\n",
       "      <th></th>\n",
       "      <th>Periodo</th>\n",
       "      <th>Indicadores</th>\n",
       "      <th>Total</th>\n",
       "    </tr>\n",
       "  </thead>\n",
       "  <tbody>\n",
       "    <tr>\n",
       "      <th>0</th>\n",
       "      <td>07</td>\n",
       "      <td>Desempleo</td>\n",
       "      <td>316697.0</td>\n",
       "    </tr>\n",
       "    <tr>\n",
       "      <th>1</th>\n",
       "      <td>07</td>\n",
       "      <td>Desempleo Abierto</td>\n",
       "      <td>193225.0</td>\n",
       "    </tr>\n",
       "    <tr>\n",
       "      <th>2</th>\n",
       "      <td>07</td>\n",
       "      <td>Desempleo Cesante</td>\n",
       "      <td>190044.0</td>\n",
       "    </tr>\n",
       "    <tr>\n",
       "      <th>3</th>\n",
       "      <td>07</td>\n",
       "      <td>Desempleo Nuevo</td>\n",
       "      <td>126653.0</td>\n",
       "    </tr>\n",
       "    <tr>\n",
       "      <th>4</th>\n",
       "      <td>07</td>\n",
       "      <td>Desempleo Oculto</td>\n",
       "      <td>123472.0</td>\n",
       "    </tr>\n",
       "  </tbody>\n",
       "</table>\n",
       "</div>"
      ],
      "text/plain": [
       "  Periodo        Indicadores     Total\n",
       "0      07          Desempleo  316697.0\n",
       "1      07  Desempleo Abierto  193225.0\n",
       "2      07  Desempleo Cesante  190044.0\n",
       "3      07    Desempleo Nuevo  126653.0\n",
       "4      07   Desempleo Oculto  123472.0"
      ]
     },
     "execution_count": 819,
     "metadata": {},
     "output_type": "execute_result"
    }
   ],
   "source": [
    "## Reducir datase a solo columnas de interes: Periodo, Indicador y Total\n",
    "csv_poblacion = csv_poblacion[['Periodo','Indicadores','Total']].groupby(['Periodo','Indicadores'],as_index=False).mean()\n",
    "csv_other_employes = csv_poblacion.query('Indicadores==\"Subempleo\" | Indicadores==\"Empleo Adecuado/Pleno\" | Indicadores==\"Otro Empleo no pleno\"')\n",
    "csv_sub_empleo= csv_other_employes.query('Indicadores==\"Subempleo\"')\n",
    "csv_empleo_pleno= csv_other_employes.query('Indicadores==\"Empleo Adecuado/Pleno\"')\n",
    "csv_empleo_nopleno= csv_other_employes.query('Indicadores==\"Otro Empleo no pleno\"')\n",
    "csv_poblacion.head(5)"
   ]
  },
  {
   "cell_type": "code",
   "execution_count": 820,
   "metadata": {},
   "outputs": [
    {
     "data": {
      "text/html": [
       "<div>\n",
       "<style scoped>\n",
       "    .dataframe tbody tr th:only-of-type {\n",
       "        vertical-align: middle;\n",
       "    }\n",
       "\n",
       "    .dataframe tbody tr th {\n",
       "        vertical-align: top;\n",
       "    }\n",
       "\n",
       "    .dataframe thead th {\n",
       "        text-align: right;\n",
       "    }\n",
       "</style>\n",
       "<table border=\"1\" class=\"dataframe\">\n",
       "  <thead>\n",
       "    <tr style=\"text-align: right;\">\n",
       "      <th></th>\n",
       "      <th>Periodo</th>\n",
       "      <th>Indicadores</th>\n",
       "      <th>Total</th>\n",
       "    </tr>\n",
       "  </thead>\n",
       "  <tbody>\n",
       "    <tr>\n",
       "      <th>0</th>\n",
       "      <td>07</td>\n",
       "      <td>Desempleo</td>\n",
       "      <td>316697.0</td>\n",
       "    </tr>\n",
       "    <tr>\n",
       "      <th>5</th>\n",
       "      <td>07</td>\n",
       "      <td>Empleo</td>\n",
       "      <td>6019332.0</td>\n",
       "    </tr>\n",
       "    <tr>\n",
       "      <th>18</th>\n",
       "      <td>08</td>\n",
       "      <td>Desempleo</td>\n",
       "      <td>362084.5</td>\n",
       "    </tr>\n",
       "    <tr>\n",
       "      <th>23</th>\n",
       "      <td>08</td>\n",
       "      <td>Empleo</td>\n",
       "      <td>6125310.0</td>\n",
       "    </tr>\n",
       "    <tr>\n",
       "      <th>36</th>\n",
       "      <td>09</td>\n",
       "      <td>Desempleo</td>\n",
       "      <td>423802.0</td>\n",
       "    </tr>\n",
       "  </tbody>\n",
       "</table>\n",
       "</div>"
      ],
      "text/plain": [
       "   Periodo Indicadores      Total\n",
       "0       07   Desempleo   316697.0\n",
       "5       07      Empleo  6019332.0\n",
       "18      08   Desempleo   362084.5\n",
       "23      08      Empleo  6125310.0\n",
       "36      09   Desempleo   423802.0"
      ]
     },
     "execution_count": 820,
     "metadata": {},
     "output_type": "execute_result"
    }
   ],
   "source": [
    "## Obtener unicamente los datos con el Indicador de Empleado y Desempleado\n",
    "csv_poblacion = csv_poblacion.query('Indicadores==\"Empleo\" | Indicadores==\"Desempleo\"')\n",
    "csv_poblacion.head(5)"
   ]
  },
  {
   "cell_type": "markdown",
   "metadata": {},
   "source": [
    "## GRÁFICA DE EMPLEADOS POR AÑO"
   ]
  },
  {
   "cell_type": "code",
   "execution_count": 821,
   "metadata": {},
   "outputs": [
    {
     "data": {
      "image/png": "[encoded data removed]",
      "text/plain": [
       "<Figure size 864x432 with 1 Axes>"
      ]
     },
     "metadata": {
      "needs_background": "light"
     },
     "output_type": "display_data"
    }
   ],
   "source": [
    "arr_employes = csv_poblacion.query('Indicadores == \"Empleo\" ')\n",
    "arr_unemployes = csv_poblacion.query('Indicadores == \"Desempleo\"')\n",
    "arr_employes = arr_employes.loc[(arr_employes['Periodo']>=init) & (arr_employes['Periodo']<=end)]\n",
    "arr_unemployes = arr_unemployes.loc[(arr_unemployes['Periodo']>=init) & (arr_unemployes['Periodo']<=end)]\n",
    "fig, ax = plt.subplots(figsize =(12, 6))\n",
    "empleados = ax\n",
    "plt.bar( arr_employes.Periodo, arr_employes.Total, color = '#29baf6')\n",
    "try:\n",
    "    plt.ticklabel_format(axis='y', style='plain')\n",
    "except AttributeError:\n",
    "    print(AttributeError)\n",
    "plt.title('Media de Empleos por Año')\n",
    "plt.xlabel('Año')\n",
    "plt.ylabel('Numero de Empleos')\n",
    "plt.grid(linestyle='-.', linewidth=0.5)\n",
    "for index,data in enumerate(arr_employes.Total):\n",
    "    plt.text(x=index , y =data+1 , s=f\"{data}\" , fontdict=dict(fontsize=8), ha='center', va='bottom')\n",
    "plt.tight_layout()\n",
    "plt.show()"
   ]
  },
  {
   "cell_type": "markdown",
   "metadata": {},
   "source": [
    "## GRÁFICA DE DESEMPLEADOS POR AÑO"
   ]
  },
  {
   "cell_type": "code",
   "execution_count": 822,
   "metadata": {},
   "outputs": [
    {
     "data": {
      "image/png": "[encoded data removed]",
      "text/plain": [
       "<Figure size 864x432 with 1 Axes>"
      ]
     },
     "metadata": {
      "needs_background": "light"
     },
     "output_type": "display_data"
    }
   ],
   "source": [
    "fig, ax = plt.subplots(figsize =(12, 6))\n",
    "desempleos = ax\n",
    "plt.bar( arr_unemployes.Periodo, arr_unemployes.Total, color = '#b3b3b5')\n",
    "try:\n",
    "    plt.ticklabel_format(axis='y', style='plain')\n",
    "except AttributeError:\n",
    "    print(AttributeError)\n",
    "plt.title('Media de desempleos por Año')\n",
    "plt.xlabel('Año')\n",
    "plt.ylabel('Numero de desempleos')\n",
    "plt.grid(linestyle='-.', linewidth=0.5)\n",
    "for index,data in enumerate(arr_unemployes.Total):\n",
    "    plt.text(x=index , y =data+1 , s=f\"{data}\" , fontdict=dict(fontsize=8), ha='center', va='bottom')\n",
    "plt.tight_layout()\n",
    "plt.show()"
   ]
  },
  {
   "cell_type": "code",
   "execution_count": 823,
   "metadata": {},
   "outputs": [
    {
     "data": {
      "text/html": [
       "<div>\n",
       "<style scoped>\n",
       "    .dataframe tbody tr th:only-of-type {\n",
       "        vertical-align: middle;\n",
       "    }\n",
       "\n",
       "    .dataframe tbody tr th {\n",
       "        vertical-align: top;\n",
       "    }\n",
       "\n",
       "    .dataframe thead th {\n",
       "        text-align: right;\n",
       "    }\n",
       "</style>\n",
       "<table border=\"1\" class=\"dataframe\">\n",
       "  <thead>\n",
       "    <tr style=\"text-align: right;\">\n",
       "      <th></th>\n",
       "      <th>Encuesta</th>\n",
       "      <th>Periodo</th>\n",
       "      <th>Indicadores</th>\n",
       "      <th>Total</th>\n",
       "      <th>Urbana</th>\n",
       "      <th>Rural</th>\n",
       "      <th>Hombre</th>\n",
       "      <th>Mujer</th>\n",
       "    </tr>\n",
       "  </thead>\n",
       "  <tbody>\n",
       "    <tr>\n",
       "      <th>0</th>\n",
       "      <td>ENEMDU</td>\n",
       "      <td>dic-07</td>\n",
       "      <td>Población Total</td>\n",
       "      <td>13682302</td>\n",
       "      <td>9.066.209</td>\n",
       "      <td>4.616.093</td>\n",
       "      <td>6.768.646</td>\n",
       "      <td>6.913.656</td>\n",
       "    </tr>\n",
       "    <tr>\n",
       "      <th>1</th>\n",
       "      <td>ENEMDU</td>\n",
       "      <td>dic-07</td>\n",
       "      <td>Población menor de 15 años</td>\n",
       "      <td>4372812</td>\n",
       "      <td>2.723.124</td>\n",
       "      <td>1.649.688</td>\n",
       "      <td>2.226.618</td>\n",
       "      <td>2.146.194</td>\n",
       "    </tr>\n",
       "    <tr>\n",
       "      <th>2</th>\n",
       "      <td>ENEMDU</td>\n",
       "      <td>dic-07</td>\n",
       "      <td>Población en Edad de Trabajar (PET)</td>\n",
       "      <td>9309490</td>\n",
       "      <td>6.343.085</td>\n",
       "      <td>2.966.404</td>\n",
       "      <td>4.542.028</td>\n",
       "      <td>4.767.462</td>\n",
       "    </tr>\n",
       "    <tr>\n",
       "      <th>3</th>\n",
       "      <td>ENEMDU</td>\n",
       "      <td>dic-07</td>\n",
       "      <td>Población Económicamente Activa</td>\n",
       "      <td>6336029</td>\n",
       "      <td>4.227.702</td>\n",
       "      <td>2.108.328</td>\n",
       "      <td>3.777.232</td>\n",
       "      <td>2.558.798</td>\n",
       "    </tr>\n",
       "    <tr>\n",
       "      <th>4</th>\n",
       "      <td>ENEMDU</td>\n",
       "      <td>dic-07</td>\n",
       "      <td>Empleo</td>\n",
       "      <td>6019332</td>\n",
       "      <td>3.971.040</td>\n",
       "      <td>2.048.292</td>\n",
       "      <td>3.632.314</td>\n",
       "      <td>2.387.018</td>\n",
       "    </tr>\n",
       "    <tr>\n",
       "      <th>...</th>\n",
       "      <td>...</td>\n",
       "      <td>...</td>\n",
       "      <td>...</td>\n",
       "      <td>...</td>\n",
       "      <td>...</td>\n",
       "      <td>...</td>\n",
       "      <td>...</td>\n",
       "      <td>...</td>\n",
       "    </tr>\n",
       "    <tr>\n",
       "      <th>895</th>\n",
       "      <td>ENEMDU*</td>\n",
       "      <td>oct-21</td>\n",
       "      <td>Desempleo Abierto</td>\n",
       "      <td>336101</td>\n",
       "      <td>291.606</td>\n",
       "      <td>44.495</td>\n",
       "      <td>150.276</td>\n",
       "      <td>185.824</td>\n",
       "    </tr>\n",
       "    <tr>\n",
       "      <th>896</th>\n",
       "      <td>ENEMDU*</td>\n",
       "      <td>oct-21</td>\n",
       "      <td>Desempleo Oculto</td>\n",
       "      <td>48103</td>\n",
       "      <td>27.600</td>\n",
       "      <td>20.503</td>\n",
       "      <td>25.975</td>\n",
       "      <td>22.128</td>\n",
       "    </tr>\n",
       "    <tr>\n",
       "      <th>897</th>\n",
       "      <td>ENEMDU*</td>\n",
       "      <td>oct-21</td>\n",
       "      <td>Desempleo Cesante</td>\n",
       "      <td>298846</td>\n",
       "      <td>257.856</td>\n",
       "      <td>40.991</td>\n",
       "      <td>140.223</td>\n",
       "      <td>158.623</td>\n",
       "    </tr>\n",
       "    <tr>\n",
       "      <th>898</th>\n",
       "      <td>ENEMDU*</td>\n",
       "      <td>oct-21</td>\n",
       "      <td>Desempleo Nuevo</td>\n",
       "      <td>85358</td>\n",
       "      <td>61.351</td>\n",
       "      <td>24.007</td>\n",
       "      <td>36.028</td>\n",
       "      <td>49.330</td>\n",
       "    </tr>\n",
       "    <tr>\n",
       "      <th>899</th>\n",
       "      <td>ENEMDU*</td>\n",
       "      <td>oct-21</td>\n",
       "      <td>Población Económicamente Inactiva</td>\n",
       "      <td>4330241</td>\n",
       "      <td>3.307.420</td>\n",
       "      <td>1.022.821</td>\n",
       "      <td>1.324.745</td>\n",
       "      <td>3.005.495</td>\n",
       "    </tr>\n",
       "  </tbody>\n",
       "</table>\n",
       "<p>900 rows × 8 columns</p>\n",
       "</div>"
      ],
      "text/plain": [
       "    Encuesta Periodo                          Indicadores     Total  \\\n",
       "0     ENEMDU  dic-07                      Población Total  13682302   \n",
       "1     ENEMDU  dic-07           Población menor de 15 años   4372812   \n",
       "2     ENEMDU  dic-07  Población en Edad de Trabajar (PET)   9309490   \n",
       "3     ENEMDU  dic-07      Población Económicamente Activa   6336029   \n",
       "4     ENEMDU  dic-07                               Empleo   6019332   \n",
       "..       ...     ...                                  ...       ...   \n",
       "895  ENEMDU*  oct-21                    Desempleo Abierto    336101   \n",
       "896  ENEMDU*  oct-21                     Desempleo Oculto     48103   \n",
       "897  ENEMDU*  oct-21                    Desempleo Cesante    298846   \n",
       "898  ENEMDU*  oct-21                      Desempleo Nuevo     85358   \n",
       "899  ENEMDU*  oct-21    Población Económicamente Inactiva   4330241   \n",
       "\n",
       "          Urbana        Rural       Hombre        Mujer  \n",
       "0      9.066.209    4.616.093    6.768.646    6.913.656  \n",
       "1      2.723.124    1.649.688    2.226.618    2.146.194  \n",
       "2      6.343.085    2.966.404    4.542.028    4.767.462  \n",
       "3      4.227.702    2.108.328    3.777.232    2.558.798  \n",
       "4      3.971.040    2.048.292    3.632.314    2.387.018  \n",
       "..           ...          ...          ...          ...  \n",
       "895     291.606       44.495      150.276      185.824   \n",
       "896      27.600       20.503       25.975       22.128   \n",
       "897     257.856       40.991      140.223      158.623   \n",
       "898      61.351       24.007       36.028       49.330   \n",
       "899   3.307.420    1.022.821    1.324.745    3.005.495   \n",
       "\n",
       "[900 rows x 8 columns]"
      ]
     },
     "execution_count": 823,
     "metadata": {},
     "output_type": "execute_result"
    }
   ],
   "source": [
    "csv_pie"
   ]
  },
  {
   "cell_type": "markdown",
   "metadata": {},
   "source": [
    "## Sectorización de empleo."
   ]
  },
  {
   "cell_type": "code",
   "execution_count": 824,
   "metadata": {},
   "outputs": [],
   "source": [
    "def sectorizacion(df_period):\n",
    "  df_es_res = df_period.groupby(['Periodo', 'Indicadores'], as_index=False)['Total'].mean()\n",
    "  df_es_res.rename(columns ={\n",
    "    'Indicadores':'Sector'\n",
    "  }, inplace = True)\n",
    "  es_fig = px.pie(df_es_res, values='Total', names='Sector', title='Sectorización de Empleo')\n",
    "  es_fig.show()\n",
    "  return es_fig, df_es_res\n",
    "\n",
    "def pie(init='07', end='21'):\n",
    "  try:\n",
    "    df_pie2 = csv_pie.copy()\n",
    "    df_pie2['Periodo'] = df_pie2['Periodo'].str[-2:]\n",
    "    df_pie2 = df_pie2.loc[(df_pie2['Periodo']>=init) & (df_pie2['Periodo']<=end)]\n",
    "    es_fig, df_es_res = sectorizacion(df_pie2)\n",
    "    report = dp.Report(dp.Text(\"\"\"## Descripción de datos\"\"\"), dp.Table(csv_pie.describe()) ,dp.Plot(empleados),dp.Plot(desempleos), dp.Text(\"\"\"## Sectorización de Empleo\"\"\"), dp.Plot(es_fig))\n",
    "    file_name = \"report-\"+init+end+\".html\"\n",
    "    report.save(path=file_name,open=True)\n",
    "  except:\n",
    "    print(\"Error rango de años invalido rangos permitidos desde 07 hasta el 21\")"
   ]
  },
  {
   "cell_type": "code",
   "execution_count": 825,
   "metadata": {},
   "outputs": [
    {
     "data": {
      "application/vnd.plotly.v1+json": {
       "config": {
        "plotlyServerURL": "https://plot.ly"
       },
       "data": [
        {
         "domain": {
          "x": [
           0,
           1
          ],
          "y": [
           0,
           1
          ]
         },
         "hovertemplate": "Sector=%{label}<br>Total=%{value}<extra></extra>",
         "labels": [
          "Desempleo",
          "Desempleo Abierto",
          "Desempleo Cesante",
          "Desempleo Nuevo",
          "Desempleo Oculto",
          "Empleo",
          "Empleo Adecuado/Pleno",
          "Empleo no clasificado",
          "Empleo no remunerado",
          "Otro Empleo no pleno",
          "Población Económicamente Activa",
          "Población Económicamente Inactiva",
          "Población Total",
          "Población en Edad de Trabajar (PET)",
          "Población menor de 15 años",
          "Subempleo",
          "Subempleo por insuficiencia de ingresos",
          "Subempleo por insuficiencia de tiempo de trabajo",
          "Desempleo",
          "Desempleo Abierto",
          "Desempleo Cesante",
          "Desempleo Nuevo",
          "Desempleo Oculto",
          "Empleo",
          "Empleo Adecuado/Pleno",
          "Empleo no clasificado",
          "Empleo no remunerado",
          "Otro Empleo no pleno",
          "Población Económicamente Activa",
          "Población Económicamente Inactiva",
          "Población Total",
          "Población en Edad de Trabajar (PET)",
          "Población menor de 15 años",
          "Subempleo",
          "Subempleo por insuficiencia de ingresos",
          "Subempleo por insuficiencia de tiempo de trabajo",
          "Desempleo",
          "Desempleo Abierto",
          "Desempleo Cesante",
          "Desempleo Nuevo",
          "Desempleo Oculto",
          "Empleo",
          "Empleo Adecuado/Pleno",
          "Empleo no clasificado",
          "Empleo no remunerado",
          "Otro Empleo no pleno",
          "Población Económicamente Activa",
          "Población Económicamente Inactiva",
          "Población Total",
          "Población en Edad de Trabajar (PET)",
          "Población menor de 15 años",
          "Subempleo",
          "Subempleo por insuficiencia de ingresos",
          "Subempleo por insuficiencia de tiempo de trabajo"
         ],
         "legendgroup": "",
         "name": "",
         "showlegend": true,
         "type": "pie",
         "values": [
          423802,
          294590,
          277080,
          146722,
          129212,
          6125135,
          2565691,
          127047,
          582204,
          1778578,
          6548937,
          3483779,
          14081060,
          10032716,
          4048344,
          1071615,
          307129,
          764486,
          365672.5,
          260131,
          234769,
          130903.5,
          105542,
          6143685.5,
          2795537.5,
          70330.5,
          523766.5,
          1788790.5,
          6509358.5,
          3710085,
          14230109.5,
          10219443,
          4010666.5,
          965260.5,
          247252.5,
          718008.5,
          302996,
          223123.5,
          194892.5,
          108103.5,
          79872.5,
          6264709,
          2893045.5,
          50258.5,
          532476.5,
          2044937,
          6567705,
          3936789,
          14428483,
          10504493.5,
          3923989,
          743991.5,
          172578,
          571413.5
         ]
        }
       ],
       "layout": {
        "legend": {
         "tracegroupgap": 0
        },
        "template": {
         "data": {
          "bar": [
           {
            "error_x": {
             "color": "#2a3f5f"
            },
            "error_y": {
             "color": "#2a3f5f"
            },
            "marker": {
             "line": {
              "color": "#E5ECF6",
              "width": 0.5
             },
             "pattern": {
              "fillmode": "overlay",
              "size": 10,
              "solidity": 0.2
             }
            },
            "type": "bar"
           }
          ],
          "barpolar": [
           {
            "marker": {
             "line": {
              "color": "#E5ECF6",
              "width": 0.5
             },
             "pattern": {
              "fillmode": "overlay",
              "size": 10,
              "solidity": 0.2
             }
            },
            "type": "barpolar"
           }
          ],
          "carpet": [
           {
            "aaxis": {
             "endlinecolor": "#2a3f5f",
             "gridcolor": "white",
             "linecolor": "white",
             "minorgridcolor": "white",
             "startlinecolor": "#2a3f5f"
            },
            "baxis": {
             "endlinecolor": "#2a3f5f",
             "gridcolor": "white",
             "linecolor": "white",
             "minorgridcolor": "white",
             "startlinecolor": "#2a3f5f"
            },
            "type": "carpet"
           }
          ],
          "choropleth": [
           {
            "colorbar": {
             "outlinewidth": 0,
             "ticks": ""
            },
            "type": "choropleth"
           }
          ],
          "contour": [
           {
            "colorbar": {
             "outlinewidth": 0,
             "ticks": ""
            },
            "colorscale": [
             [
              0,
              "#0d0887"
             ],
             [
              0.1111111111111111,
              "#46039f"
             ],
             [
              0.2222222222222222,
              "#7201a8"
             ],
             [
              0.3333333333333333,
              "#9c179e"
             ],
             [
              0.4444444444444444,
              "#bd3786"
             ],
             [
              0.5555555555555556,
              "#d8576b"
             ],
             [
              0.6666666666666666,
              "#ed7953"
             ],
             [
              0.7777777777777778,
              "#fb9f3a"
             ],
             [
              0.8888888888888888,
              "#fdca26"
             ],
             [
              1,
              "#f0f921"
             ]
            ],
            "type": "contour"
           }
          ],
          "contourcarpet": [
           {
            "colorbar": {
             "outlinewidth": 0,
             "ticks": ""
            },
            "type": "contourcarpet"
           }
          ],
          "heatmap": [
           {
            "colorbar": {
             "outlinewidth": 0,
             "ticks": ""
            },
            "colorscale": [
             [
              0,
              "#0d0887"
             ],
             [
              0.1111111111111111,
              "#46039f"
             ],
             [
              0.2222222222222222,
              "#7201a8"
             ],
             [
              0.3333333333333333,
              "#9c179e"
             ],
             [
              0.4444444444444444,
              "#bd3786"
             ],
             [
              0.5555555555555556,
              "#d8576b"
             ],
             [
              0.6666666666666666,
              "#ed7953"
             ],
             [
              0.7777777777777778,
              "#fb9f3a"
             ],
             [
              0.8888888888888888,
              "#fdca26"
             ],
             [
              1,
              "#f0f921"
             ]
            ],
            "type": "heatmap"
           }
          ],
          "heatmapgl": [
           {
            "colorbar": {
             "outlinewidth": 0,
             "ticks": ""
            },
            "colorscale": [
             [
              0,
              "#0d0887"
             ],
             [
              0.1111111111111111,
              "#46039f"
             ],
             [
              0.2222222222222222,
              "#7201a8"
             ],
             [
              0.3333333333333333,
              "#9c179e"
             ],
             [
              0.4444444444444444,
              "#bd3786"
             ],
             [
              0.5555555555555556,
              "#d8576b"
             ],
             [
              0.6666666666666666,
              "#ed7953"
             ],
             [
              0.7777777777777778,
              "#fb9f3a"
             ],
             [
              0.8888888888888888,
              "#fdca26"
             ],
             [
              1,
              "#f0f921"
             ]
            ],
            "type": "heatmapgl"
           }
          ],
          "histogram": [
           {
            "marker": {
             "pattern": {
              "fillmode": "overlay",
              "size": 10,
              "solidity": 0.2
             }
            },
            "type": "histogram"
           }
          ],
          "histogram2d": [
           {
            "colorbar": {
             "outlinewidth": 0,
             "ticks": ""
            },
            "colorscale": [
             [
              0,
              "#0d0887"
             ],
             [
              0.1111111111111111,
              "#46039f"
             ],
             [
              0.2222222222222222,
              "#7201a8"
             ],
             [
              0.3333333333333333,
              "#9c179e"
             ],
             [
              0.4444444444444444,
              "#bd3786"
             ],
             [
              0.5555555555555556,
              "#d8576b"
             ],
             [
              0.6666666666666666,
              "#ed7953"
             ],
             [
              0.7777777777777778,
              "#fb9f3a"
             ],
             [
              0.8888888888888888,
              "#fdca26"
             ],
             [
              1,
              "#f0f921"
             ]
            ],
            "type": "histogram2d"
           }
          ],
          "histogram2dcontour": [
           {
            "colorbar": {
             "outlinewidth": 0,
             "ticks": ""
            },
            "colorscale": [
             [
              0,
              "#0d0887"
             ],
             [
              0.1111111111111111,
              "#46039f"
             ],
             [
              0.2222222222222222,
              "#7201a8"
             ],
             [
              0.3333333333333333,
              "#9c179e"
             ],
             [
              0.4444444444444444,
              "#bd3786"
             ],
             [
              0.5555555555555556,
              "#d8576b"
             ],
             [
              0.6666666666666666,
              "#ed7953"
             ],
             [
              0.7777777777777778,
              "#fb9f3a"
             ],
             [
              0.8888888888888888,
              "#fdca26"
             ],
             [
              1,
              "#f0f921"
             ]
            ],
            "type": "histogram2dcontour"
           }
          ],
          "mesh3d": [
           {
            "colorbar": {
             "outlinewidth": 0,
             "ticks": ""
            },
            "type": "mesh3d"
           }
          ],
          "parcoords": [
           {
            "line": {
             "colorbar": {
              "outlinewidth": 0,
              "ticks": ""
             }
            },
            "type": "parcoords"
           }
          ],
          "pie": [
           {
            "automargin": true,
            "type": "pie"
           }
          ],
          "scatter": [
           {
            "marker": {
             "colorbar": {
              "outlinewidth": 0,
              "ticks": ""
             }
            },
            "type": "scatter"
           }
          ],
          "scatter3d": [
           {
            "line": {
             "colorbar": {
              "outlinewidth": 0,
              "ticks": ""
             }
            },
            "marker": {
             "colorbar": {
              "outlinewidth": 0,
              "ticks": ""
             }
            },
            "type": "scatter3d"
           }
          ],
          "scattercarpet": [
           {
            "marker": {
             "colorbar": {
              "outlinewidth": 0,
              "ticks": ""
             }
            },
            "type": "scattercarpet"
           }
          ],
          "scattergeo": [
           {
            "marker": {
             "colorbar": {
              "outlinewidth": 0,
              "ticks": ""
             }
            },
            "type": "scattergeo"
           }
          ],
          "scattergl": [
           {
            "marker": {
             "colorbar": {
              "outlinewidth": 0,
              "ticks": ""
             }
            },
            "type": "scattergl"
           }
          ],
          "scattermapbox": [
           {
            "marker": {
             "colorbar": {
              "outlinewidth": 0,
              "ticks": ""
             }
            },
            "type": "scattermapbox"
           }
          ],
          "scatterpolar": [
           {
            "marker": {
             "colorbar": {
              "outlinewidth": 0,
              "ticks": ""
             }
            },
            "type": "scatterpolar"
           }
          ],
          "scatterpolargl": [
           {
            "marker": {
             "colorbar": {
              "outlinewidth": 0,
              "ticks": ""
             }
            },
            "type": "scatterpolargl"
           }
          ],
          "scatterternary": [
           {
            "marker": {
             "colorbar": {
              "outlinewidth": 0,
              "ticks": ""
             }
            },
            "type": "scatterternary"
           }
          ],
          "surface": [
           {
            "colorbar": {
             "outlinewidth": 0,
             "ticks": ""
            },
            "colorscale": [
             [
              0,
              "#0d0887"
             ],
             [
              0.1111111111111111,
              "#46039f"
             ],
             [
              0.2222222222222222,
              "#7201a8"
             ],
             [
              0.3333333333333333,
              "#9c179e"
             ],
             [
              0.4444444444444444,
              "#bd3786"
             ],
             [
              0.5555555555555556,
              "#d8576b"
             ],
             [
              0.6666666666666666,
              "#ed7953"
             ],
             [
              0.7777777777777778,
              "#fb9f3a"
             ],
             [
              0.8888888888888888,
              "#fdca26"
             ],
             [
              1,
              "#f0f921"
             ]
            ],
            "type": "surface"
           }
          ],
          "table": [
           {
            "cells": {
             "fill": {
              "color": "#EBF0F8"
             },
             "line": {
              "color": "white"
             }
            },
            "header": {
             "fill": {
              "color": "#C8D4E3"
             },
             "line": {
              "color": "white"
             }
            },
            "type": "table"
           }
          ]
         },
         "layout": {
          "annotationdefaults": {
           "arrowcolor": "#2a3f5f",
           "arrowhead": 0,
           "arrowwidth": 1
          },
          "autotypenumbers": "strict",
          "coloraxis": {
           "colorbar": {
            "outlinewidth": 0,
            "ticks": ""
           }
          },
          "colorscale": {
           "diverging": [
            [
             0,
             "#8e0152"
            ],
            [
             0.1,
             "#c51b7d"
            ],
            [
             0.2,
             "#de77ae"
            ],
            [
             0.3,
             "#f1b6da"
            ],
            [
             0.4,
             "#fde0ef"
            ],
            [
             0.5,
             "#f7f7f7"
            ],
            [
             0.6,
             "#e6f5d0"
            ],
            [
             0.7,
             "#b8e186"
            ],
            [
             0.8,
             "#7fbc41"
            ],
            [
             0.9,
             "#4d9221"
            ],
            [
             1,
             "#276419"
            ]
           ],
           "sequential": [
            [
             0,
             "#0d0887"
            ],
            [
             0.1111111111111111,
             "#46039f"
            ],
            [
             0.2222222222222222,
             "#7201a8"
            ],
            [
             0.3333333333333333,
             "#9c179e"
            ],
            [
             0.4444444444444444,
             "#bd3786"
            ],
            [
             0.5555555555555556,
             "#d8576b"
            ],
            [
             0.6666666666666666,
             "#ed7953"
            ],
            [
             0.7777777777777778,
             "#fb9f3a"
            ],
            [
             0.8888888888888888,
             "#fdca26"
            ],
            [
             1,
             "#f0f921"
            ]
           ],
           "sequentialminus": [
            [
             0,
             "#0d0887"
            ],
            [
             0.1111111111111111,
             "#46039f"
            ],
            [
             0.2222222222222222,
             "#7201a8"
            ],
            [
             0.3333333333333333,
             "#9c179e"
            ],
            [
             0.4444444444444444,
             "#bd3786"
            ],
            [
             0.5555555555555556,
             "#d8576b"
            ],
            [
             0.6666666666666666,
             "#ed7953"
            ],
            [
             0.7777777777777778,
             "#fb9f3a"
            ],
            [
             0.8888888888888888,
             "#fdca26"
            ],
            [
             1,
             "#f0f921"
            ]
           ]
          },
          "colorway": [
           "#636efa",
           "#EF553B",
           "#00cc96",
           "#ab63fa",
           "#FFA15A",
           "#19d3f3",
           "#FF6692",
           "#B6E880",
           "#FF97FF",
           "#FECB52"
          ],
          "font": {
           "color": "#2a3f5f"
          },
          "geo": {
           "bgcolor": "white",
           "lakecolor": "white",
           "landcolor": "#E5ECF6",
           "showlakes": true,
           "showland": true,
           "subunitcolor": "white"
          },
          "hoverlabel": {
           "align": "left"
          },
          "hovermode": "closest",
          "mapbox": {
           "style": "light"
          },
          "paper_bgcolor": "white",
          "plot_bgcolor": "#E5ECF6",
          "polar": {
           "angularaxis": {
            "gridcolor": "white",
            "linecolor": "white",
            "ticks": ""
           },
           "bgcolor": "#E5ECF6",
           "radialaxis": {
            "gridcolor": "white",
            "linecolor": "white",
            "ticks": ""
           }
          },
          "scene": {
           "xaxis": {
            "backgroundcolor": "#E5ECF6",
            "gridcolor": "white",
            "gridwidth": 2,
            "linecolor": "white",
            "showbackground": true,
            "ticks": "",
            "zerolinecolor": "white"
           },
           "yaxis": {
            "backgroundcolor": "#E5ECF6",
            "gridcolor": "white",
            "gridwidth": 2,
            "linecolor": "white",
            "showbackground": true,
            "ticks": "",
            "zerolinecolor": "white"
           },
           "zaxis": {
            "backgroundcolor": "#E5ECF6",
            "gridcolor": "white",
            "gridwidth": 2,
            "linecolor": "white",
            "showbackground": true,
            "ticks": "",
            "zerolinecolor": "white"
           }
          },
          "shapedefaults": {
           "line": {
            "color": "#2a3f5f"
           }
          },
          "ternary": {
           "aaxis": {
            "gridcolor": "white",
            "linecolor": "white",
            "ticks": ""
           },
           "baxis": {
            "gridcolor": "white",
            "linecolor": "white",
            "ticks": ""
           },
           "bgcolor": "#E5ECF6",
           "caxis": {
            "gridcolor": "white",
            "linecolor": "white",
            "ticks": ""
           }
          },
          "title": {
           "x": 0.05
          },
          "xaxis": {
           "automargin": true,
           "gridcolor": "white",
           "linecolor": "white",
           "ticks": "",
           "title": {
            "standoff": 15
           },
           "zerolinecolor": "white",
           "zerolinewidth": 2
          },
          "yaxis": {
           "automargin": true,
           "gridcolor": "white",
           "linecolor": "white",
           "ticks": "",
           "title": {
            "standoff": 15
           },
           "zerolinecolor": "white",
           "zerolinewidth": 2
          }
         }
        },
        "title": {
         "text": "Sectorización de Empleo"
        }
       }
      }
     },
     "metadata": {},
     "output_type": "display_data"
    },
    {
     "data": {
      "text/markdown": [
       "Report saved to ./report-0911.html. To upload and share your report, create a free Datapane account by running `!datapane signup`."
      ],
      "text/plain": [
       "<IPython.core.display.Markdown object>"
      ]
     },
     "metadata": {},
     "output_type": "display_data"
    },
    {
     "data": {
      "text/markdown": [
       "How is your experience of Datapane? Please take two minutes to answer our anonymous [product survey](https://bit.ly/3lWjRlr)"
      ],
      "text/plain": [
       "<IPython.core.display.Markdown object>"
      ]
     },
     "metadata": {},
     "output_type": "display_data"
    }
   ],
   "source": [
    "pie(init, end)"
   ]
  },
  {
   "cell_type": "markdown",
   "metadata": {},
   "source": [
    "## Histograma Subempleo, Empleo pleno y Empleo no pleno por año"
   ]
  },
  {
   "cell_type": "code",
   "execution_count": null,
   "metadata": {},
   "outputs": [],
   "source": []
  },
  {
   "cell_type": "code",
   "execution_count": 826,
   "metadata": {},
   "outputs": [
    {
     "name": "stderr",
     "output_type": "stream",
     "text": [
      "[1204/162234.052062:ERROR:file_io_posix.cc(207)] open /home/rene/.config/Code/exthost Crash Reports/settings.dat: Permission denied (13)\n"
     ]
    },
    {
     "data": {
      "image/png": "[encoded data removed]",
      "text/plain": [
       "<Figure size 1296x576 with 1 Axes>"
      ]
     },
     "metadata": {
      "needs_background": "light"
     },
     "output_type": "display_data"
    }
   ],
   "source": [
    "barWidth = 0.2\n",
    "fig = plt.subplots(figsize =(18, 8))\n",
    "csv_sub_empleo = csv_sub_empleo.loc[(csv_sub_empleo['Periodo']>=init) & (csv_sub_empleo['Periodo']<=end)]\n",
    "csv_empleo_pleno = csv_empleo_pleno.loc[(csv_empleo_pleno['Periodo']>=init) & (csv_empleo_pleno['Periodo']<=end)]\n",
    "csv_empleo_nopleno = csv_empleo_nopleno.loc[(csv_empleo_nopleno['Periodo']>=init) & (csv_empleo_nopleno['Periodo']<=end)]\n",
    "sub_empleo = np.array(csv_sub_empleo[\"Total\"])\n",
    "empleo_pleno = np.array(csv_empleo_pleno[\"Total\"])\n",
    "empleo_no_pleno = np.array(csv_empleo_nopleno[\"Total\"])\n",
    "\n",
    "# Set position of bar on X axis\n",
    "br1 = np.arange(len(sub_empleo))\n",
    "br2 = [x + barWidth for x in br1]\n",
    "br3 = [x + barWidth for x in br2]\n",
    "\n",
    "# Make the plot\n",
    "plt.bar(br1, sub_empleo, color ='#29baf6', width = barWidth, label ='Subempleo')\n",
    "plt.bar(br2, empleo_pleno, color ='#5856d6', width = barWidth, label ='Empleo Pleno')\n",
    "plt.bar(br3, empleo_no_pleno, color ='#b3b3b5', width = barWidth, label ='Empleo No pleno')\n",
    "\n",
    "# Adding Xticks\n",
    "plt.xlabel('Año', fontsize = 15)\n",
    "plt.ylabel('Datos en Millones', fontsize = 15)\n",
    "plt.title('Personas en Subempleo, Empleo pleno y empleo no pleno')\n",
    "plt.xticks([r + barWidth for r in range(len(sub_empleo))],\n",
    "        np.array(csv_empleo_nopleno[\"Periodo\"]))\n",
    "\n",
    "plt.legend()\n",
    "plt.show()"
   ]
  }
 ],
 "metadata": {
  "interpreter": {
   "hash": "487fe944462b2ffc7c1cd30c98bf8c47937184742071185864c3d8a4ba6b5e62"
  },
  "kernelspec": {
   "display_name": "Python 3.8.10 64-bit ('graficasFifa': venv)",
   "language": "python",
   "name": "python3"
  },
  "language_info": {
   "codemirror_mode": {
    "name": "ipython",
    "version": 3
   },
   "file_extension": ".py",
   "mimetype": "text/x-python",
   "name": "python",
   "nbconvert_exporter": "python",
   "pygments_lexer": "ipython3",
   "version": "3.8.10"
  },
  "orig_nbformat": 4
 },
 "nbformat": 4,
 "nbformat_minor": 2
}
